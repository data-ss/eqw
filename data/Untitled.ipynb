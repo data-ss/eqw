{
 "cells": [
  {
   "cell_type": "code",
   "execution_count": 3,
   "metadata": {},
   "outputs": [],
   "source": [
    "import pandas as pd"
   ]
  },
  {
   "cell_type": "code",
   "execution_count": 4,
   "metadata": {},
   "outputs": [],
   "source": [
    "df = pd.read_csv(\"DataSample.csv\")"
   ]
  },
  {
   "cell_type": "code",
   "execution_count": 5,
   "metadata": {},
   "outputs": [
    {
     "name": "stdout",
     "output_type": "stream",
     "text": [
      "<class 'pandas.core.frame.DataFrame'>\n",
      "RangeIndex: 22025 entries, 0 to 22024\n",
      "Data columns (total 7 columns):\n",
      "_ID          22025 non-null int64\n",
      " TimeSt      22025 non-null object\n",
      "Country      22025 non-null object\n",
      "Province     22025 non-null object\n",
      "City         22025 non-null object\n",
      "Latitude     22025 non-null float64\n",
      "Longitude    22025 non-null float64\n",
      "dtypes: float64(2), int64(1), object(4)\n",
      "memory usage: 1.2+ MB\n",
      "None\n"
     ]
    }
   ],
   "source": [
    "df.head()\n",
    "\n",
    "print(df.info())"
   ]
  },
  {
   "cell_type": "code",
   "execution_count": 6,
   "metadata": {},
   "outputs": [
    {
     "data": {
      "text/html": [
       "<div>\n",
       "<style scoped>\n",
       "    .dataframe tbody tr th:only-of-type {\n",
       "        vertical-align: middle;\n",
       "    }\n",
       "\n",
       "    .dataframe tbody tr th {\n",
       "        vertical-align: top;\n",
       "    }\n",
       "\n",
       "    .dataframe thead th {\n",
       "        text-align: right;\n",
       "    }\n",
       "</style>\n",
       "<table border=\"1\" class=\"dataframe\">\n",
       "  <thead>\n",
       "    <tr style=\"text-align: right;\">\n",
       "      <th></th>\n",
       "      <th>_ID</th>\n",
       "      <th>TimeSt</th>\n",
       "      <th>Country</th>\n",
       "      <th>Province</th>\n",
       "      <th>City</th>\n",
       "      <th>Latitude</th>\n",
       "      <th>Longitude</th>\n",
       "    </tr>\n",
       "  </thead>\n",
       "  <tbody>\n",
       "    <tr>\n",
       "      <th>17512</th>\n",
       "      <td>5391794</td>\n",
       "      <td>2017-06-21 00:02:13.080</td>\n",
       "      <td>CA</td>\n",
       "      <td>ON</td>\n",
       "      <td>Mississauga</td>\n",
       "      <td>43.5869</td>\n",
       "      <td>-79.7559</td>\n",
       "    </tr>\n",
       "  </tbody>\n",
       "</table>\n",
       "</div>"
      ],
      "text/plain": [
       "           _ID                   TimeSt Country Province         City  \\\n",
       "17512  5391794  2017-06-21 00:02:13.080      CA       ON  Mississauga   \n",
       "\n",
       "       Latitude  Longitude  \n",
       "17512   43.5869   -79.7559  "
      ]
     },
     "execution_count": 6,
     "metadata": {},
     "output_type": "execute_result"
    }
   ],
   "source": [
    "df[df[\"_ID\"] == 5391794]"
   ]
  },
  {
   "cell_type": "code",
   "execution_count": 7,
   "metadata": {},
   "outputs": [
    {
     "data": {
      "text/html": [
       "<div>\n",
       "<style scoped>\n",
       "    .dataframe tbody tr th:only-of-type {\n",
       "        vertical-align: middle;\n",
       "    }\n",
       "\n",
       "    .dataframe tbody tr th {\n",
       "        vertical-align: top;\n",
       "    }\n",
       "\n",
       "    .dataframe thead th {\n",
       "        text-align: right;\n",
       "    }\n",
       "</style>\n",
       "<table border=\"1\" class=\"dataframe\">\n",
       "  <thead>\n",
       "    <tr style=\"text-align: right;\">\n",
       "      <th></th>\n",
       "      <th>_ID</th>\n",
       "      <th>TimeSt</th>\n",
       "      <th>Country</th>\n",
       "      <th>Province</th>\n",
       "      <th>City</th>\n",
       "      <th>Latitude</th>\n",
       "      <th>Longitude</th>\n",
       "    </tr>\n",
       "  </thead>\n",
       "  <tbody>\n",
       "    <tr>\n",
       "      <th>12</th>\n",
       "      <td>4517047</td>\n",
       "      <td>2017-06-21 12:00:00.950</td>\n",
       "      <td>CA</td>\n",
       "      <td>ON</td>\n",
       "      <td>London</td>\n",
       "      <td>43.00910</td>\n",
       "      <td>-81.17650</td>\n",
       "    </tr>\n",
       "    <tr>\n",
       "      <th>19</th>\n",
       "      <td>4517347</td>\n",
       "      <td>2017-06-21 03:00:00.287</td>\n",
       "      <td>CA</td>\n",
       "      <td>ON</td>\n",
       "      <td>Windsor</td>\n",
       "      <td>42.29570</td>\n",
       "      <td>-82.95990</td>\n",
       "    </tr>\n",
       "    <tr>\n",
       "      <th>37</th>\n",
       "      <td>4518179</td>\n",
       "      <td>2017-06-21 08:00:00.663</td>\n",
       "      <td>CA</td>\n",
       "      <td>ON</td>\n",
       "      <td>Kitchener</td>\n",
       "      <td>43.46760</td>\n",
       "      <td>-80.48470</td>\n",
       "    </tr>\n",
       "    <tr>\n",
       "      <th>56</th>\n",
       "      <td>4519066</td>\n",
       "      <td>2017-06-21 07:00:00.747</td>\n",
       "      <td>CA</td>\n",
       "      <td>ON</td>\n",
       "      <td>Tillsonburg</td>\n",
       "      <td>42.86185</td>\n",
       "      <td>-80.72991</td>\n",
       "    </tr>\n",
       "    <tr>\n",
       "      <th>77</th>\n",
       "      <td>4520202</td>\n",
       "      <td>2017-06-21 17:00:02.433</td>\n",
       "      <td>CA</td>\n",
       "      <td>ON</td>\n",
       "      <td>Windsor</td>\n",
       "      <td>42.26540</td>\n",
       "      <td>-83.02610</td>\n",
       "    </tr>\n",
       "    <tr>\n",
       "      <th>...</th>\n",
       "      <td>...</td>\n",
       "      <td>...</td>\n",
       "      <td>...</td>\n",
       "      <td>...</td>\n",
       "      <td>...</td>\n",
       "      <td>...</td>\n",
       "      <td>...</td>\n",
       "    </tr>\n",
       "    <tr>\n",
       "      <th>21978</th>\n",
       "      <td>5613024</td>\n",
       "      <td>2017-06-21 21:22:52.703</td>\n",
       "      <td>CA</td>\n",
       "      <td>ON</td>\n",
       "      <td>Burlington</td>\n",
       "      <td>43.30160</td>\n",
       "      <td>-79.85820</td>\n",
       "    </tr>\n",
       "    <tr>\n",
       "      <th>21986</th>\n",
       "      <td>5613395</td>\n",
       "      <td>2017-06-21 18:22:52.750</td>\n",
       "      <td>CA</td>\n",
       "      <td>ON</td>\n",
       "      <td>Toronto</td>\n",
       "      <td>43.71290</td>\n",
       "      <td>-79.38880</td>\n",
       "    </tr>\n",
       "    <tr>\n",
       "      <th>22011</th>\n",
       "      <td>5614409</td>\n",
       "      <td>2017-06-21 20:22:53.367</td>\n",
       "      <td>CA</td>\n",
       "      <td>ON</td>\n",
       "      <td>Mississauga</td>\n",
       "      <td>43.58730</td>\n",
       "      <td>-79.60760</td>\n",
       "    </tr>\n",
       "    <tr>\n",
       "      <th>22013</th>\n",
       "      <td>5614486</td>\n",
       "      <td>2017-06-21 04:22:54.890</td>\n",
       "      <td>CA</td>\n",
       "      <td>ON</td>\n",
       "      <td>Toronto</td>\n",
       "      <td>43.70680</td>\n",
       "      <td>-79.39910</td>\n",
       "    </tr>\n",
       "    <tr>\n",
       "      <th>22021</th>\n",
       "      <td>5614888</td>\n",
       "      <td>2017-06-21 08:23:01.793</td>\n",
       "      <td>CA</td>\n",
       "      <td>AB</td>\n",
       "      <td>Calgary</td>\n",
       "      <td>51.02093</td>\n",
       "      <td>-114.10621</td>\n",
       "    </tr>\n",
       "  </tbody>\n",
       "</table>\n",
       "<p>2026 rows × 7 columns</p>\n",
       "</div>"
      ],
      "text/plain": [
       "           _ID                   TimeSt Country Province         City  \\\n",
       "12     4517047  2017-06-21 12:00:00.950      CA       ON       London   \n",
       "19     4517347  2017-06-21 03:00:00.287      CA       ON      Windsor   \n",
       "37     4518179  2017-06-21 08:00:00.663      CA       ON    Kitchener   \n",
       "56     4519066  2017-06-21 07:00:00.747      CA       ON  Tillsonburg   \n",
       "77     4520202  2017-06-21 17:00:02.433      CA       ON      Windsor   \n",
       "...        ...                      ...     ...      ...          ...   \n",
       "21978  5613024  2017-06-21 21:22:52.703      CA       ON   Burlington   \n",
       "21986  5613395  2017-06-21 18:22:52.750      CA       ON      Toronto   \n",
       "22011  5614409  2017-06-21 20:22:53.367      CA       ON  Mississauga   \n",
       "22013  5614486  2017-06-21 04:22:54.890      CA       ON      Toronto   \n",
       "22021  5614888  2017-06-21 08:23:01.793      CA       AB      Calgary   \n",
       "\n",
       "       Latitude  Longitude  \n",
       "12     43.00910  -81.17650  \n",
       "19     42.29570  -82.95990  \n",
       "37     43.46760  -80.48470  \n",
       "56     42.86185  -80.72991  \n",
       "77     42.26540  -83.02610  \n",
       "...         ...        ...  \n",
       "21978  43.30160  -79.85820  \n",
       "21986  43.71290  -79.38880  \n",
       "22011  43.58730  -79.60760  \n",
       "22013  43.70680  -79.39910  \n",
       "22021  51.02093 -114.10621  \n",
       "\n",
       "[2026 rows x 7 columns]"
      ]
     },
     "execution_count": 7,
     "metadata": {},
     "output_type": "execute_result"
    }
   ],
   "source": [
    "df[df.duplicated(subset=[\" TimeSt\", \"Latitude\", \"Longitude\"])]"
   ]
  },
  {
   "cell_type": "code",
   "execution_count": 8,
   "metadata": {},
   "outputs": [],
   "source": [
    "df2 = pd.read_csv(\"POIList.csv\")"
   ]
  },
  {
   "cell_type": "code",
   "execution_count": 9,
   "metadata": {},
   "outputs": [
    {
     "data": {
      "text/html": [
       "<div>\n",
       "<style scoped>\n",
       "    .dataframe tbody tr th:only-of-type {\n",
       "        vertical-align: middle;\n",
       "    }\n",
       "\n",
       "    .dataframe tbody tr th {\n",
       "        vertical-align: top;\n",
       "    }\n",
       "\n",
       "    .dataframe thead th {\n",
       "        text-align: right;\n",
       "    }\n",
       "</style>\n",
       "<table border=\"1\" class=\"dataframe\">\n",
       "  <thead>\n",
       "    <tr style=\"text-align: right;\">\n",
       "      <th></th>\n",
       "      <th>POIID</th>\n",
       "      <th>Latitude</th>\n",
       "      <th>Longitude</th>\n",
       "    </tr>\n",
       "  </thead>\n",
       "  <tbody>\n",
       "    <tr>\n",
       "      <th>0</th>\n",
       "      <td>POI1</td>\n",
       "      <td>53.546167</td>\n",
       "      <td>-113.485734</td>\n",
       "    </tr>\n",
       "    <tr>\n",
       "      <th>1</th>\n",
       "      <td>POI2</td>\n",
       "      <td>53.546167</td>\n",
       "      <td>-113.485734</td>\n",
       "    </tr>\n",
       "    <tr>\n",
       "      <th>2</th>\n",
       "      <td>POI3</td>\n",
       "      <td>45.521629</td>\n",
       "      <td>-73.566024</td>\n",
       "    </tr>\n",
       "    <tr>\n",
       "      <th>3</th>\n",
       "      <td>POI4</td>\n",
       "      <td>45.224830</td>\n",
       "      <td>-63.232729</td>\n",
       "    </tr>\n",
       "  </tbody>\n",
       "</table>\n",
       "</div>"
      ],
      "text/plain": [
       "  POIID   Latitude   Longitude\n",
       "0  POI1  53.546167 -113.485734\n",
       "1  POI2  53.546167 -113.485734\n",
       "2  POI3  45.521629  -73.566024\n",
       "3  POI4  45.224830  -63.232729"
      ]
     },
     "execution_count": 9,
     "metadata": {},
     "output_type": "execute_result"
    }
   ],
   "source": [
    "df2"
   ]
  },
  {
   "cell_type": "code",
   "execution_count": 13,
   "metadata": {},
   "outputs": [],
   "source": [
    "df.drop_duplicates(subset=[\" TimeSt\", \"Latitude\", \"Longitude\"], inplace=True)"
   ]
  },
  {
   "cell_type": "code",
   "execution_count": 14,
   "metadata": {},
   "outputs": [
    {
     "name": "stdout",
     "output_type": "stream",
     "text": [
      "<class 'pandas.core.frame.DataFrame'>\n",
      "Int64Index: 19999 entries, 0 to 22024\n",
      "Data columns (total 7 columns):\n",
      "_ID          19999 non-null int64\n",
      " TimeSt      19999 non-null object\n",
      "Country      19999 non-null object\n",
      "Province     19999 non-null object\n",
      "City         19999 non-null object\n",
      "Latitude     19999 non-null float64\n",
      "Longitude    19999 non-null float64\n",
      "dtypes: float64(2), int64(1), object(4)\n",
      "memory usage: 1.2+ MB\n"
     ]
    }
   ],
   "source": [
    "df.info()"
   ]
  },
  {
   "cell_type": "code",
   "execution_count": null,
   "metadata": {},
   "outputs": [],
   "source": []
  }
 ],
 "metadata": {
  "kernelspec": {
   "display_name": "Python 3",
   "language": "python",
   "name": "python3"
  },
  "language_info": {
   "codemirror_mode": {
    "name": "ipython",
    "version": 3
   },
   "file_extension": ".py",
   "mimetype": "text/x-python",
   "name": "python",
   "nbconvert_exporter": "python",
   "pygments_lexer": "ipython3",
   "version": "3.7.3"
  }
 },
 "nbformat": 4,
 "nbformat_minor": 4
}
